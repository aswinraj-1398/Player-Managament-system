{
 "cells": [
  {
   "cell_type": "code",
   "execution_count": 1,
   "id": "7a75fe49-239f-4191-9909-a64706dfb3e0",
   "metadata": {
    "jp-MarkdownHeadingCollapsed": true
   },
   "outputs": [
    {
     "name": "stdout",
     "output_type": "stream",
     "text": [
      "\n",
      "Menu:\n",
      "1. Add Player\n",
      "2. Update Player Score\n",
      "3. Display Scores\n",
      "4. Display Top Players\n",
      "5. Exit\n"
     ]
    },
    {
     "name": "stdin",
     "output_type": "stream",
     "text": [
      "Choose an option (1-5):  1\n",
      "Enter the player's name:  Player 1\n",
      "Enter the player's score (default is 0):  98\n"
     ]
    },
    {
     "name": "stdout",
     "output_type": "stream",
     "text": [
      "Player Player 1 added with score 98.0.\n",
      "\n",
      "Menu:\n",
      "1. Add Player\n",
      "2. Update Player Score\n",
      "3. Display Scores\n",
      "4. Display Top Players\n",
      "5. Exit\n"
     ]
    },
    {
     "name": "stdin",
     "output_type": "stream",
     "text": [
      "Choose an option (1-5):  1\n",
      "Enter the player's name:  Player B\n",
      "Enter the player's score (default is 0):  68\n"
     ]
    },
    {
     "name": "stdout",
     "output_type": "stream",
     "text": [
      "Player Player B added with score 68.0.\n",
      "\n",
      "Menu:\n",
      "1. Add Player\n",
      "2. Update Player Score\n",
      "3. Display Scores\n",
      "4. Display Top Players\n",
      "5. Exit\n"
     ]
    },
    {
     "name": "stdin",
     "output_type": "stream",
     "text": [
      "Choose an option (1-5):  1\n",
      "Enter the player's name:  Player C\n",
      "Enter the player's score (default is 0):  45\n"
     ]
    },
    {
     "name": "stdout",
     "output_type": "stream",
     "text": [
      "Player Player C added with score 45.0.\n",
      "\n",
      "Menu:\n",
      "1. Add Player\n",
      "2. Update Player Score\n",
      "3. Display Scores\n",
      "4. Display Top Players\n",
      "5. Exit\n"
     ]
    },
    {
     "name": "stdin",
     "output_type": "stream",
     "text": [
      "Choose an option (1-5):  2\n",
      "Enter the player's name to update the score:  Player C\n",
      "Enter the new score:  98\n"
     ]
    },
    {
     "name": "stdout",
     "output_type": "stream",
     "text": [
      "Updated Player C's score to: 98.0\n",
      "\n",
      "Menu:\n",
      "1. Add Player\n",
      "2. Update Player Score\n",
      "3. Display Scores\n",
      "4. Display Top Players\n",
      "5. Exit\n"
     ]
    },
    {
     "name": "stdin",
     "output_type": "stream",
     "text": [
      "Choose an option (1-5):  #\n"
     ]
    },
    {
     "name": "stdout",
     "output_type": "stream",
     "text": [
      "Invalid choice. Please enter a number between 1 and 5.\n",
      "\n",
      "Menu:\n",
      "1. Add Player\n",
      "2. Update Player Score\n",
      "3. Display Scores\n",
      "4. Display Top Players\n",
      "5. Exit\n"
     ]
    },
    {
     "name": "stdin",
     "output_type": "stream",
     "text": [
      "Choose an option (1-5):  3\n"
     ]
    },
    {
     "name": "stdout",
     "output_type": "stream",
     "text": [
      "Player 1: 98.0\n",
      "Player B: 68.0\n",
      "Player C: 98.0\n",
      "\n",
      "Menu:\n",
      "1. Add Player\n",
      "2. Update Player Score\n",
      "3. Display Scores\n",
      "4. Display Top Players\n",
      "5. Exit\n"
     ]
    },
    {
     "name": "stdin",
     "output_type": "stream",
     "text": [
      "Choose an option (1-5):  4\n"
     ]
    },
    {
     "name": "stdout",
     "output_type": "stream",
     "text": [
      "\n",
      " ------------------------------ \n",
      "Top players:\n",
      "Player 1: 98.0\n",
      "Player C: 98.0\n",
      "Player B: 68.0\n",
      "\n",
      "Menu:\n",
      "1. Add Player\n",
      "2. Update Player Score\n",
      "3. Display Scores\n",
      "4. Display Top Players\n",
      "5. Exit\n"
     ]
    },
    {
     "name": "stdin",
     "output_type": "stream",
     "text": [
      "Choose an option (1-5):  5\n"
     ]
    },
    {
     "name": "stdout",
     "output_type": "stream",
     "text": [
      "Exiting the System\n"
     ]
    }
   ],
   "source": [
    "class Player:\n",
    "    def __init__(self, name, score=0):\n",
    "        self.name = name\n",
    "        self.score = score\n",
    "\n",
    "    def update_score(self, points):\n",
    "        self.score += points\n",
    "\n",
    "    def __str__(self):\n",
    "        return f\"{self.name}: {self.score}\"\n",
    "\n",
    "\n",
    "class Game:\n",
    "    def __init__(self):\n",
    "        self.players = {}\n",
    "\n",
    "    def add_player(self):\n",
    "        while True:\n",
    "            try:\n",
    "                name = input(\"Enter the player's name: \").strip()\n",
    "                if not name or not any(char.isalpha() for char in name): \n",
    "                    raise ValueError(\"Name cannot be empty and must contain at least one character.\")\n",
    "                if name not in self.players:\n",
    "                    while True:\n",
    "                        score = input(\"Enter the player's score (default is 0): \").strip()\n",
    "                        try:\n",
    "                            score = float(score) if score else 0\n",
    "                            self.players[name] = Player(name, score)\n",
    "                            print(f\"Player {name} added with score {score}.\")\n",
    "                            return\n",
    "                        except ValueError:\n",
    "                            print(\"Invalid score input. Score must be a number. Please try again.\")\n",
    "                else:\n",
    "                    print(f\"Player {name} already exists. Current score: {self.players[name].score}.\")\n",
    "                    return\n",
    "            except ValueError as ve:\n",
    "                print(ve)\n",
    "    def update_player_score(self):\n",
    "        name = input(\"Enter the player's name to update the score: \").strip()\n",
    "        if name in self.players:\n",
    "            while True:\n",
    "                new_score = input(\"Enter the new score: \")\n",
    "                try:\n",
    "                    new_score = float(new_score)\n",
    "                    self.players[name].update_score(new_score - self.players[name].score)\n",
    "                    print(f\"Updated {name}'s score to: {self.players[name].score}\")\n",
    "                    break\n",
    "                except ValueError:\n",
    "                    print(\"Invalid input. Please enter a valid number for the score.\")\n",
    "        else:\n",
    "            print(f\"No player found with the name: {name}.\")\n",
    "            \n",
    "    def display_scores(self):\n",
    "        if not self.players:\n",
    "            print(\"No players in the game.\")\n",
    "        else:\n",
    "            for player in self.players.values():\n",
    "                print(player)\n",
    "\n",
    "    def display_top_players(self, n=3):\n",
    "        top_players = sorted(self.players.values(), key=lambda x: x.score, reverse=True)[:n]\n",
    "        if top_players:\n",
    "            print(\"\\n\",\"-\"*30,\"\\n\"\"Top players:\")\n",
    "            for player in top_players:\n",
    "                print(player)\n",
    "        else:\n",
    "            print(\"No players available.\")\n",
    "            \n",
    "    def run(self):\n",
    "        while True:\n",
    "            print(\"\\nMenu:\")\n",
    "            print(\"1. Add Player\")\n",
    "            print(\"2. Update Player Score\")\n",
    "            print(\"3. Display Scores\")\n",
    "            print(\"4. Display Top Players\")\n",
    "            print(\"5. Exit\")\n",
    "\n",
    "            choice = input(\"Choose an option (1-5): \").strip()\n",
    "\n",
    "            if choice == '1':\n",
    "                self.add_player()\n",
    "            elif choice == '2':\n",
    "                self.update_player_score()\n",
    "            elif choice == '3':\n",
    "                self.display_scores()\n",
    "            elif choice == '4':\n",
    "                self.display_top_players()\n",
    "            elif choice == '5':\n",
    "                print(\"Exiting the System\")\n",
    "                break\n",
    "            else:\n",
    "                print(\"Invalid choice. Please enter a number between 1 and 5.\")\n",
    "game = Game()\n",
    "game.run()\n"
   ]
  },
  {
   "cell_type": "code",
   "execution_count": 2,
   "id": "c2a9d637-fe7b-4657-abd9-c0a1fd0cf141",
   "metadata": {},
   "outputs": [
    {
     "name": "stdout",
     "output_type": "stream",
     "text": [
      "\n",
      "Menu:\n",
      "1. Add Player\n",
      "2. Update Player Score\n",
      "3. Display Scores\n",
      "4. Display Top Players\n",
      "5. Exit\n"
     ]
    },
    {
     "name": "stdin",
     "output_type": "stream",
     "text": [
      "Choose an option (1-5):  1\n",
      "Enter the player's name:  Player C\n",
      "Enter the player's score (default is 0):  \n"
     ]
    },
    {
     "name": "stdout",
     "output_type": "stream",
     "text": [
      "Player Player C added with score 0.\n",
      "\n",
      "Menu:\n",
      "1. Add Player\n",
      "2. Update Player Score\n",
      "3. Display Scores\n",
      "4. Display Top Players\n",
      "5. Exit\n"
     ]
    },
    {
     "name": "stdin",
     "output_type": "stream",
     "text": [
      "Choose an option (1-5):  5\n"
     ]
    },
    {
     "name": "stdout",
     "output_type": "stream",
     "text": [
      "Exiting the System\n"
     ]
    }
   ],
   "source": [
    "game.run()\n"
   ]
  },
  {
   "cell_type": "code",
   "execution_count": null,
   "id": "4605a78d-9c9c-4d50-bd06-8c62b30e3669",
   "metadata": {},
   "outputs": [],
   "source": []
  }
 ],
 "metadata": {
  "kernelspec": {
   "display_name": "Python 3 (ipykernel)",
   "language": "python",
   "name": "python3"
  },
  "language_info": {
   "codemirror_mode": {
    "name": "ipython",
    "version": 3
   },
   "file_extension": ".py",
   "mimetype": "text/x-python",
   "name": "python",
   "nbconvert_exporter": "python",
   "pygments_lexer": "ipython3",
   "version": "3.12.4"
  }
 },
 "nbformat": 4,
 "nbformat_minor": 5
}
